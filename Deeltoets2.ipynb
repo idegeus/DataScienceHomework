{
 "cells": [
  {
   "cell_type": "markdown",
   "metadata": {
    "deletable": false,
    "editable": false,
    "nbgrader": {
     "cell_type": "markdown",
     "checksum": "3fc1d5c19719f820c76fc12fd5ba9c58",
     "grade": false,
     "grade_id": "ii",
     "locked": true,
     "schema_version": 3,
     "solution": false
    }
   },
   "source": [
    "# Uitleg\n",
    "\n",
    "* Er zijn 14 punten te verdienen. Elke deelvraag is 1 punt waard. \n",
    "* De laatste vraag is een bonus vraag, ook weer voor 1 punt.\n",
    "* 1 Draai alle cellen voor je begint \n",
    "* 2 Draai alle cellen voordat je inlevert 1. Check dat er geen syntax fouten zijn.\n",
    "*  Save je notebook en lever het in via Testvision examen.\n",
    "    * Dit gaat goed, ook al zegt testvision dat je nog niet alle vragen gemaakt hebt.\n",
    "    * Je kunt desgewenst checken of het inleveren goed gelukt is.\n",
    "* De naam van je notebook moet `Deeltoets2.ipynb` zijn!"
   ]
  },
  {
   "cell_type": "markdown",
   "metadata": {},
   "source": [
    "# Notebook made by  \n",
    "\n",
    "__Name__: Ivo de Geus\n",
    "\n",
    "__Student id__ : 1125 1190\n",
    "\n",
    "## Pledge (taken from [Coursera's Honor Code](https://www.coursera.org/about/terms/honorcode) )\n",
    "\n",
    "\n",
    "\n",
    "Put here a selfie with your photo where you hold a signed paper with the following text: (if this is team work, put two selfies here). The link must be to some place on the web, not to a local file. **Assignments without the selfies will not be graded.**\n",
    "\n",
    "> My answers to homework, quizzes and exams will be my own work (except for assignments that explicitly permit collaboration).\n",
    "\n",
    "> I will not use any material (books, internet, etc) other than this notebook while I am making this exam.\n",
    "\n",
    ">I will not make solutions to homework, quizzes or exams available to anyone else. This includes both solutions written by me, as well as any official solutions provided by the course staff.\n",
    "\n",
    ">I will not engage in any other activities that will dishonestly improve my results or dishonestly improve/hurt the results of others.\n",
    "\n",
    ">(Toevoeging IK) Onderdeel van dit tentamen kan zijn dat ik mondeling mijn tentamen zal toelichten via Zoom of Skype. Dit mondeling is individueel. Ik weet dat ik dan over alle vragen en antwoorden bevraagd kan worden. De examinator bepaalt met wie en of  dit mondeling gaat plaatsvinden.\n",
    "\n",
    "<img src=\"https://i.imgur.com/tzk0eXj.jpg\" width=\"500\">"
   ]
  },
  {
   "cell_type": "markdown",
   "metadata": {
    "toc": true
   },
   "source": [
    "<h1>Table of Contents<span class=\"tocSkip\"></span></h1>\n",
    "<div class=\"toc\"><ul class=\"toc-item\"><li><span><a href=\"#Uitleg\" data-toc-modified-id=\"Uitleg-1\"><span class=\"toc-item-num\">1&nbsp;&nbsp;</span>Uitleg</a></span></li><li><span><a href=\"#Baby-names\" data-toc-modified-id=\"Baby-names-2\"><span class=\"toc-item-num\">2&nbsp;&nbsp;</span>Baby names</a></span><ul class=\"toc-item\"><li><span><a href=\"#Jongensnamen-(4pt)\" data-toc-modified-id=\"Jongensnamen-(4pt)-2.1\"><span class=\"toc-item-num\">2.1&nbsp;&nbsp;</span>Jongensnamen (4pt)</a></span></li><li><span><a href=\"#Eerste-letter-(2pt)\" data-toc-modified-id=\"Eerste-letter-(2pt)-2.2\"><span class=\"toc-item-num\">2.2&nbsp;&nbsp;</span>Eerste letter (2pt)</a></span></li><li><span><a href=\"#Lengte-van-namen-(4pt)\" data-toc-modified-id=\"Lengte-van-namen-(4pt)-2.3\"><span class=\"toc-item-num\">2.3&nbsp;&nbsp;</span>Lengte van namen (4pt)</a></span></li><li><span><a href=\"#Letters-in-namen-(1pt)\" data-toc-modified-id=\"Letters-in-namen-(1pt)-2.4\"><span class=\"toc-item-num\">2.4&nbsp;&nbsp;</span>Letters in namen (1pt)</a></span></li></ul></li><li><span><a href=\"#Titanic-(2pt)\" data-toc-modified-id=\"Titanic-(2pt)-3\"><span class=\"toc-item-num\">3&nbsp;&nbsp;</span>Titanic (2pt)</a></span><ul class=\"toc-item\"><li><span><a href=\"#Titanic-2.1-(1pt)\" data-toc-modified-id=\"Titanic-2.1-(1pt)-3.1\"><span class=\"toc-item-num\">3.1&nbsp;&nbsp;</span>Titanic 2.1 (1pt)</a></span></li></ul></li><li><span><a href=\"#Bonus-(1-pnt)\" data-toc-modified-id=\"Bonus-(1-pnt)-4\"><span class=\"toc-item-num\">4&nbsp;&nbsp;</span>Bonus (1 pnt)</a></span></li></ul></div>"
   ]
  },
  {
   "cell_type": "code",
   "execution_count": 81,
   "metadata": {
    "deletable": false,
    "editable": false,
    "nbgrader": {
     "cell_type": "code",
     "checksum": "610747b30754b1c683aa4411ed3e6a62",
     "grade": false,
     "grade_id": "i1",
     "locked": true,
     "schema_version": 3,
     "solution": false
    }
   },
   "outputs": [],
   "source": [
    "import os\n",
    "import re\n",
    "\n",
    "import matplotlib.pylab as plt\n",
    "import numpy as np\n",
    "import pandas as pd\n",
    "import seaborn as sns\n",
    "from nose.tools import assert_almost_equal, assert_equal\n",
    "from pandas.testing import assert_frame_equal\n",
    "\n",
    "%matplotlib inline\n",
    "\n",
    "\n",
    "def ook_goed(var,test,dec=7):\n",
    "    try: \n",
    "        A=assert_almost_equal(var,test,dec) \n",
    "    except:\n",
    "        A= var.size== 1 and assert_almost_equal(var.values[0],test,dec)\n",
    "    return A"
   ]
  },
  {
   "cell_type": "markdown",
   "metadata": {
    "deletable": false,
    "editable": false,
    "nbgrader": {
     "cell_type": "markdown",
     "checksum": "748860e74c2fad879fb643645c5f351c",
     "grade": false,
     "grade_id": "b",
     "locked": true,
     "schema_version": 3,
     "solution": false
    }
   },
   "source": [
    "# Baby names\n",
    "\n",
    "Deze file bevat de kinderen die geboren zijn in de VS gedurende meer dan 100 jaar. Voor elke *naam* (dus niet voor elk *kind*), is er een regel met hoeveel kinderen er in een bepaald jaar met een bepaald geslacht geboren zijn met die naam. Veel namen komen per jaar twee keer voor, die zijn zowel aan jongens als aan meisjes gegeven.\n",
    "\n",
    "We werken met een willekeurige steekproef van 10% uit de `babynames.csv` file om problemen met het geheugen te voorkomen. Die steekproef is anders op het moment dat jij de toets maakt dan op het moment van nakijken. Hardcoden van antwoorden heeft dus geen zin. **Geef dus steeds je antwoorden in termen van het dataframe `baby` of in termen van een andere Series of Dataframe gebaseerd op `baby`.**"
   ]
  },
  {
   "cell_type": "code",
   "execution_count": 122,
   "metadata": {
    "deletable": false,
    "editable": false,
    "nbgrader": {
     "cell_type": "code",
     "checksum": "9240cc3ec7549f6969e14f9c2afa46fc",
     "grade": false,
     "grade_id": "b1",
     "locked": true,
     "schema_version": 3,
     "solution": false
    }
   },
   "outputs": [
    {
     "name": "stdout",
     "output_type": "stream",
     "text": [
      "(1690784, 4)\n",
      "        Name Sex  Count  Year\n",
      "0       Mary   F   7065  1880\n",
      "1       Anna   F   2604  1880\n",
      "2       Emma   F   2003  1880\n",
      "3  Elizabeth   F   1939  1880\n",
      "4     Minnie   F   1746  1880\n",
      "(169078, 4)\n",
      "                Name Sex  Count  Year\n",
      "363727        Hallie   M     22  1939\n",
      "1065470        Teyon   M      9  1989\n",
      "1342579      Maloree   F      9  2000\n",
      "116279   Christopher   M    200  1914\n",
      "1436460       Tiyona   F      7  2003\n",
      "CPU times: user 2.34 s, sys: 326 ms, total: 2.66 s\n",
      "Wall time: 1.51 s\n"
     ]
    }
   ],
   "source": [
    "%%time \n",
    "\n",
    "def loadfile():\n",
    "    if 'babynames.csv' in os.listdir():\n",
    "        return 'babynames.csv'\n",
    "    elif os.path.exists('../../data/Week3/'):\n",
    "        return '../../data/Week3/babynames.csv'\n",
    "    elif os.path.exists('../../../data/Week3/'):\n",
    "        return '../../../data/Week3/babynames.csv'\n",
    "\n",
    "\n",
    "baby = pd.read_csv(loadfile()).fillna(0) # heerlijk, er zijn geen missing values!\n",
    "print(baby.shape)\n",
    "print(baby.head(5))\n",
    "\n",
    "# neem de steekproef\n",
    "deel=np.random.choice(baby.shape[0],int(baby.shape[0]/10),replace=False)\n",
    "baby= baby.loc[deel]\n",
    "\n",
    "# vergelijk met het origineel\n",
    "print(baby.shape)\n",
    "print(baby.head(5))"
   ]
  },
  {
   "cell_type": "markdown",
   "metadata": {
    "deletable": false,
    "editable": false,
    "nbgrader": {
     "cell_type": "markdown",
     "checksum": "48fcc62fdcb09e5e61e7691667ddfe97",
     "grade": false,
     "grade_id": "bv1",
     "locked": true,
     "schema_version": 3,
     "solution": false
    }
   },
   "source": [
    "## Jongensnamen (4pt)\n",
    "\n",
    "1. Hoeveel jongens zitten er in het bestand `baby`? (variable `v1`)\n",
    "2. Hoeveel verschillende (unieke) namen zijn er aan jongens gegeven? (variable `v2`)\n",
    "3. Bereken voor elke jongensnaam het  **percentage** jongens met die naam. \n",
    "    * HINT: als je het goed hebt gedaan, tellen die percentages natuurlijk op tot 100.\n",
    "    * Gebruik  die Series om de volgende twee vragen te beantwoorden.\n",
    "    * Let op: deze Series wordt niet 1 van de variabelen.\n",
    "4. Hoeveel namen hebben een percentage van meer dan 2% (variable `v3`)\n",
    "5. Welk percentage jongens heet Donald? (variable `v4`)\n",
    "\n",
    " "
   ]
  },
  {
   "cell_type": "code",
   "execution_count": 123,
   "metadata": {
    "deletable": false,
    "nbgrader": {
     "cell_type": "code",
     "checksum": "3d8f377d9c3c5406311070fb07f1e900",
     "grade": false,
     "grade_id": "bv1a",
     "locked": false,
     "schema_version": 3,
     "solution": true
    }
   },
   "outputs": [
    {
     "name": "stdout",
     "output_type": "stream",
     "text": [
      "16147205 19272 5 1.1980773143091947\n"
     ]
    }
   ],
   "source": [
    "# Er wordt aangenomen dat dit gaat om het aantal baby's (niet het aantal namen).\n",
    "v1 = baby[baby.Sex == 'M'].Count.sum()\n",
    "\n",
    "# Het aantal unieke namen over de jaren heen (verschillende jaren zelfde naam is niet uniek).\n",
    "v2 = len(baby[baby.Sex == 'M'].Name.value_counts())\n",
    "\n",
    "# Definieer hier je Series met percentages.\n",
    "names_perc = (\n",
    "    baby[baby.Sex == 'M'].groupby(by=baby.Name).Count.sum() / \n",
    "    baby[baby.Sex == 'M'].Count.sum() ) * 100\n",
    "\n",
    "# Pak alle namen met meer dan 2 procent en pak de grootte.\n",
    "v3 = names_perc[names_perc > 2.0].size\n",
    "\n",
    "# Zoek de entry voor Donald uit de series.\n",
    "v4 = names_perc['Donald']\n",
    "\n",
    "print(v1,v2,v3,v4)"
   ]
  },
  {
   "cell_type": "code",
   "execution_count": 124,
   "metadata": {
    "deletable": false,
    "editable": false,
    "nbgrader": {
     "cell_type": "code",
     "checksum": "9b121d428de11fd2dcd9ac2fe7a4a2e4",
     "grade": true,
     "grade_id": "bv1t1",
     "locked": true,
     "points": 1,
     "schema_version": 3,
     "solution": false
    }
   },
   "outputs": [],
   "source": [
    "assert int(v1) "
   ]
  },
  {
   "cell_type": "code",
   "execution_count": 125,
   "metadata": {
    "deletable": false,
    "editable": false,
    "nbgrader": {
     "cell_type": "code",
     "checksum": "975487f10591e633b354f962bcc546ad",
     "grade": true,
     "grade_id": "bv1t2",
     "locked": true,
     "points": 1,
     "schema_version": 3,
     "solution": false
    }
   },
   "outputs": [],
   "source": [
    "assert int(v2)"
   ]
  },
  {
   "cell_type": "code",
   "execution_count": 126,
   "metadata": {
    "deletable": false,
    "editable": false,
    "nbgrader": {
     "cell_type": "code",
     "checksum": "838a9316674c26a536e67cc08873c020",
     "grade": true,
     "grade_id": "bv1t3",
     "locked": true,
     "points": 1,
     "schema_version": 3,
     "solution": false
    }
   },
   "outputs": [],
   "source": [
    "assert int(v3)"
   ]
  },
  {
   "cell_type": "code",
   "execution_count": 127,
   "metadata": {
    "deletable": false,
    "editable": false,
    "nbgrader": {
     "cell_type": "code",
     "checksum": "a2283dc631e902fb0f75dbe0ae0d762d",
     "grade": true,
     "grade_id": "bv1t4",
     "locked": true,
     "points": 1,
     "schema_version": 3,
     "solution": false
    }
   },
   "outputs": [],
   "source": [
    "assert float(v4)"
   ]
  },
  {
   "cell_type": "markdown",
   "metadata": {
    "deletable": false,
    "editable": false,
    "nbgrader": {
     "cell_type": "markdown",
     "checksum": "2b36870b8ac2a7315b075fee4edc989a",
     "grade": false,
     "grade_id": "bv2",
     "locked": true,
     "schema_version": 3,
     "solution": false
    }
   },
   "source": [
    "## Eerste letter (2pt)\n",
    "\n",
    "1. Hoeveel meisjes hebben een naam beginnend met een 'J'? (variable `v1`)\n",
    "    * HINT: denk aan de string functie `str.get()`.\n",
    "2. Hoeveel meisjes en jongens zitten er totaal in het bestand? Antwoord als een series van shape (2,) met 2 index waardes `'M'`.`'F'`. (variable `v2`)\n",
    "3. Welk deel van de (bedoeld is *alle*) jongens heeft een naam beginnend met een `J`, en welk deel van de meisjes?  Antwoord als een series van shape (2,) met 2 index waardes `'M'`.`'F'`. (variable `v3`)\n",
    "    * HINT: het gaat om het *deel*, dus deel dan ook 2 dataframes.\n",
    "4.  Geef voor elke eerste letter van een naam, per geslacht \n",
    " het deel van alle kinderen in de DB met een naam die met die letter begint. \n",
    " De uitkomst is een dataframe met als index de letters waarmee namen in de DB beginnen, en 2 kolommen F en M, voor beide geslachten. (variable `v4`)\n",
    "     * Een mooie test is  om de waardes in beide kolommen op te tellen. Daar moet dan in beide gevallen 1 uit komen. \n",
    "     * Bij mijn random instantie zag `v4.head()` er als volgt uit:\n",
    "     \n",
    "<table border=\"1\" class=\"dataframe\">\n",
    "  <thead>\n",
    "    <tr style=\"text-align: right;\">\n",
    "      <th>Sex</th>\n",
    "      <th>F</th>\n",
    "      <th>M</th>\n",
    "    </tr>\n",
    "    <tr>\n",
    "      <th>Name</th>\n",
    "      <th></th>\n",
    "      <th></th>\n",
    "    </tr>\n",
    "  </thead>\n",
    "  <tbody>\n",
    "    <tr>\n",
    "      <th>A</th>\n",
    "      <td>0.087824</td>\n",
    "      <td>0.055055</td>\n",
    "    </tr>\n",
    "    <tr>\n",
    "      <th>B</th>\n",
    "      <td>0.048137</td>\n",
    "      <td>0.049909</td>\n",
    "    </tr>\n",
    "    <tr>\n",
    "      <th>C</th>\n",
    "      <td>0.080363</td>\n",
    "      <td>0.070881</td>\n",
    "    </tr>\n",
    "    <tr>\n",
    "      <th>D</th>\n",
    "      <td>0.066091</td>\n",
    "      <td>0.065908</td>\n",
    "    </tr>\n",
    "    <tr>\n",
    "      <th>E</th>\n",
    "      <td>0.048550</td>\n",
    "      <td>0.035633</td>\n",
    "    </tr>\n",
    "  </tbody>\n",
    "</table>\n",
    "\n",
    "\n"
   ]
  },
  {
   "cell_type": "code",
   "execution_count": 275,
   "metadata": {},
   "outputs": [
    {
     "data": {
      "text/plain": [
       "F    0.088556\n",
       "M    0.161606\n",
       "dtype: float64"
      ]
     },
     "execution_count": 275,
     "metadata": {},
     "output_type": "execute_result"
    }
   ],
   "source": []
  },
  {
   "cell_type": "code",
   "execution_count": 276,
   "metadata": {
    "deletable": false,
    "nbgrader": {
     "cell_type": "code",
     "checksum": "fe2eae4bbd32afea9c10f2b9f1f427c0",
     "grade": false,
     "grade_id": "bv2a",
     "locked": false,
     "schema_version": 3,
     "solution": true
    }
   },
   "outputs": [
    {
     "name": "stdout",
     "output_type": "stream",
     "text": [
      "3997169\n",
      "F    100398\n",
      "M     68680\n",
      "Name: Sex, dtype: int64\n",
      "F    0.088556\n",
      "M    0.161606\n",
      "dtype: float64\n"
     ]
    },
    {
     "data": {
      "image/png": "[encoded data removed]",
      "text/plain": [
       "<Figure size 432x288 with 1 Axes>"
      ]
     },
     "metadata": {
      "needs_background": "light"
     },
     "output_type": "display_data"
    }
   ],
   "source": [
    "baby['NameLetter'] = baby.Name.str.get(0)\n",
    "\n",
    "# Simple thing...\n",
    "v1 = baby[baby.NameLetter == 'J'].Count.sum()\n",
    "\n",
    "# Get both counts.\n",
    "v2 = baby.Sex.value_counts()\n",
    "\n",
    "# This one can be a lot better but I was in a rush...\n",
    "v3 = pd.Series({\n",
    "    'F': baby[(baby.NameLetter == 'J') & (baby.Sex == 'F')].Count.sum() / baby[baby.Sex == 'F'].Count.sum(),\n",
    "    'M': baby[(baby.NameLetter == 'J') & (baby.Sex == 'M')].Count.sum() / baby[baby.Sex == 'M'].Count.sum()\n",
    "})\n",
    "\n",
    "# Set the name to the first letter\n",
    "table = baby.pivot_table(\n",
    "    columns='Sex', \n",
    "    values='Count', \n",
    "    index='NameLetter', \n",
    "    aggfunc='sum').rename({'NameLetter': 'Name'})\n",
    "table.F /= table.F.sum()\n",
    "table.M /= table.M.sum()\n",
    "v4 = table\n",
    "\n",
    "print(v1)\n",
    "print(v2)\n",
    "print(v3)\n",
    "\n",
    "v4.plot(kind='bar');\n"
   ]
  },
  {
   "cell_type": "code",
   "execution_count": 277,
   "metadata": {
    "deletable": false,
    "editable": false,
    "nbgrader": {
     "cell_type": "code",
     "checksum": "feefb75bc6534e36891cdbcb15e2e9d8",
     "grade": true,
     "grade_id": "bv2t1",
     "locked": true,
     "points": 0.25,
     "schema_version": 3,
     "solution": false
    }
   },
   "outputs": [],
   "source": [
    "assert isinstance(int(v1),int)\n"
   ]
  },
  {
   "cell_type": "code",
   "execution_count": 278,
   "metadata": {
    "deletable": false,
    "editable": false,
    "nbgrader": {
     "cell_type": "code",
     "checksum": "e4476458813a825ae71f364c8c52fbad",
     "grade": true,
     "grade_id": "bv2t2",
     "locked": true,
     "points": 0.25,
     "schema_version": 3,
     "solution": false
    }
   },
   "outputs": [],
   "source": [
    "assert_equal(v2.shape,(2,))\n",
    "assert_equal(set(v2.index),{'M','F'})"
   ]
  },
  {
   "cell_type": "code",
   "execution_count": 279,
   "metadata": {
    "deletable": false,
    "editable": false,
    "nbgrader": {
     "cell_type": "code",
     "checksum": "4c58deb0416bd42502f220b65bfb5513",
     "grade": true,
     "grade_id": "bv2t3",
     "locked": true,
     "points": 0.5,
     "schema_version": 3,
     "solution": false
    }
   },
   "outputs": [],
   "source": [
    "assert_equal(v3.shape,(2,))\n",
    "assert_equal(set(v2.index),{'M','F'})\n"
   ]
  },
  {
   "cell_type": "code",
   "execution_count": 280,
   "metadata": {
    "deletable": false,
    "editable": false,
    "nbgrader": {
     "cell_type": "code",
     "checksum": "a86cc6d4e6a895c611aa33878ca1167a",
     "grade": true,
     "grade_id": "bv2t4",
     "locked": true,
     "points": 1,
     "schema_version": 3,
     "solution": false
    }
   },
   "outputs": [],
   "source": [
    "assert isinstance(v4,pd.DataFrame)\n",
    "assert_equal(set(v4.columns),{'M','F'})\n",
    "\n",
    "\n"
   ]
  },
  {
   "cell_type": "markdown",
   "metadata": {
    "deletable": false,
    "editable": false,
    "nbgrader": {
     "cell_type": "markdown",
     "checksum": "5cf88d0e2cfd26af07ad6038adbe30ef",
     "grade": false,
     "grade_id": "bv3",
     "locked": true,
     "schema_version": 3,
     "solution": false
    }
   },
   "source": [
    "## Lengte van namen (4pt)\n",
    "\n",
    "2.  Geef  een distributie en bijbehorend plot van de naamslengtes  (dus lengtes op de x-as, en hoeveel kinderen een naam van die lengte hebben  op de y-as)\n",
    "     * HINT: voeg een nieuwe kolom toe aan `baby` met de lengte van de naam in aantal karakters.\n",
    "     * Je gebruikt deze distributie voor de volgende vragen. Let op, hardcoden kan niet! Definieer je antwoorden dus in termen van de Series waarin je de lengtedistributie beschrijft.\n",
    "     * HINT: ga voordat je verder gaat na dat je plot de waarheid kan beschrijven. Dus dat het ergens op slaat. \n",
    "     * TEST: de `sum` van de waardes in je plot moet gelijk zijn aan het totaal aantal kinderen in de `baby` file.\n",
    "     * Bij mijn random instance zagen de eerste 3 regels van die Series er zo uit:\n",
    "      <pre>\n",
    "      2      30078\n",
    "3     744895\n",
    "4    4439084\n",
    "Name: Count, dtype: int64\n",
    "</pre>\n",
    "1. Uit hoeveel letters bestaat de naam van een kind gemiddeld, gemeten over alle kinderen in `baby`? (variable `v1`)\n",
    "    * HINT: denk goed na, en zorg dat je **per kind** telt. \n",
    "4. Hoeveel procent van alle kinderen heeft een naam korter of gelijk aan 5 letters?  (variable `v2`)\n",
    "    * HINT: denk aan `cumsum()`.\n",
    "3. Wat is de *modus* (meest voorkomende lengte) van de lengtes van namen? (variable `v3`)\n",
    "    * Hint: denk aan `idxmax`.\n",
    "5. En wat is de standaard afwijking van deze distributie?  (variable `v4`)\n",
    "    * Hint: dit is lastig uit te rekenen met `.std()`. \n",
    "    * Hint: de formule (met $\\bar{y}$ het gemiddelde) voor de standaard afwijking is $$\\sqrt\\frac{\\Sigma_{i=1}^N(y_i-\\bar{y})^2}{N}$$"
   ]
  },
  {
   "cell_type": "code",
   "execution_count": 281,
   "metadata": {
    "deletable": false,
    "nbgrader": {
     "cell_type": "code",
     "checksum": "510c98c8471611cd5907dbc3f8b29ebd",
     "grade": false,
     "grade_id": "bv3a",
     "locked": false,
     "schema_version": 3,
     "solution": true
    }
   },
   "outputs": [
    {
     "name": "stdout",
     "output_type": "stream",
     "text": [
      "6.170725937141437\n",
      "42.09617678349459\n",
      "6\n",
      "1.4741687409280961\n"
     ]
    },
    {
     "data": {
      "image/png": "[encoded data removed]",
      "text/plain": [
       "<Figure size 432x288 with 1 Axes>"
      ]
     },
     "metadata": {
      "needs_background": "light"
     },
     "output_type": "display_data"
    }
   ],
   "source": [
    "# Get the value count distibution for name lengths.\n",
    "baby['NameLength'] = baby.Name.str.len()\n",
    "distribution = baby.groupby(baby.NameLength).Count.sum()\n",
    "distribution.plot(kind='bar', logy=True)\n",
    "\n",
    "v1 = baby.NameLength.mean()\n",
    "v2 = baby[baby.NameLength <= 5].Count.sum() / baby.Count.sum() * 100\n",
    "v3 = distribution.idxmax()\n",
    "\n",
    "# Deze niet zo zeker...\n",
    "v4 = (((baby.NameLength - baby.NameLength.mean())**2).sum() / len(baby))**0.5\n",
    "\n",
    "\n",
    "print(v1)\n",
    "print(v2)\n",
    "print(v3)\n",
    "print(v4) \n",
    " \n"
   ]
  },
  {
   "cell_type": "code",
   "execution_count": 282,
   "metadata": {
    "deletable": false,
    "editable": false,
    "nbgrader": {
     "cell_type": "code",
     "checksum": "42ee252d05f7b3a52139ca0c78a79fb0",
     "grade": true,
     "grade_id": "bv3t1",
     "locked": true,
     "points": 1,
     "schema_version": 3,
     "solution": false
    }
   },
   "outputs": [],
   "source": [
    "assert isinstance(float(v1),float)\n"
   ]
  },
  {
   "cell_type": "code",
   "execution_count": 283,
   "metadata": {
    "deletable": false,
    "editable": false,
    "nbgrader": {
     "cell_type": "code",
     "checksum": "7d47d75320f18758388e7afe2c954d16",
     "grade": true,
     "grade_id": "bv3t2",
     "locked": true,
     "points": 1,
     "schema_version": 3,
     "solution": false
    }
   },
   "outputs": [],
   "source": [
    "assert isinstance(float(v2),float)\n"
   ]
  },
  {
   "cell_type": "code",
   "execution_count": 284,
   "metadata": {
    "deletable": false,
    "editable": false,
    "nbgrader": {
     "cell_type": "code",
     "checksum": "9d02507734b0a914b691ea9d63c18f65",
     "grade": true,
     "grade_id": "bv3t3",
     "locked": true,
     "points": 1,
     "schema_version": 3,
     "solution": false
    }
   },
   "outputs": [],
   "source": [
    "assert isinstance(int(v3),int)\n"
   ]
  },
  {
   "cell_type": "code",
   "execution_count": 285,
   "metadata": {
    "deletable": false,
    "editable": false,
    "nbgrader": {
     "cell_type": "code",
     "checksum": "f715634a67d54160fa1098204c9c274f",
     "grade": true,
     "grade_id": "bv3t4",
     "locked": true,
     "points": 1,
     "schema_version": 3,
     "solution": false
    }
   },
   "outputs": [],
   "source": [
    "assert isinstance(float(v4),float)\n"
   ]
  },
  {
   "cell_type": "markdown",
   "metadata": {
    "deletable": false,
    "editable": false,
    "nbgrader": {
     "cell_type": "markdown",
     "checksum": "68e7fde82361a6c5c02372d644b6cf08",
     "grade": false,
     "grade_id": "blv4",
     "locked": true,
     "schema_version": 3,
     "solution": false
    }
   },
   "source": [
    "## Letters in namen (1pt)\n",
    "\n",
    "**Dit is de lastigste vraag uit het tentamen, bewaar hem dus voor het laatst.**\n",
    "\n",
    "We willen voor elk geslacht, en voor elke letter, weten welk deel die letter uitmaakt van de namen van babies met dat geslacht. \n",
    "\n",
    "De uitvoer is dus een dataframe met shape `(26,2)`, met als index de 26 letters, en de twee kolommen `M` en `F`, en de cellen daarin zijn getallen tussen 0 en 1, die per kolom optellen tot 1.\n",
    "\n",
    "Bij mij zag het plotten van dat dataframe er zo uit:\n",
    "\n",
    "![](letters.png)\n",
    "\n",
    "LET OP: je telt **per kind**, niet per (unieke) naam. Bedenk goed wat `(b.F * b.index.str.len()).sum(),` betekent.\n",
    "\n",
    "HINT: gebruik de letters in `ascii_lowercase` en het dataframe `b`. \n",
    "HINT: zorg dat je lowercased. \n",
    "HINT: Je kunt gewoon pandas `str` methodes uitvoeren op `b.index`. Ik vond `.str.findall(l).str.len()` voor `l` een variabele gebonden aan een letter heel handig.\n",
    "HINT: Ik gebruikte `pd.DataFrame.from_dict` en dict comprehensie om `letters` te maken.\n",
    "\n"
   ]
  },
  {
   "cell_type": "code",
   "execution_count": 286,
   "metadata": {
    "deletable": false,
    "editable": false,
    "nbgrader": {
     "cell_type": "code",
     "checksum": "27f2c717fdf8ed76e020c786e33833d5",
     "grade": false,
     "grade_id": "blv4c",
     "locked": true,
     "schema_version": 3,
     "solution": false
    }
   },
   "outputs": [
    {
     "data": {
      "text/html": [
       "<div>\n",
       "<style scoped>\n",
       "    .dataframe tbody tr th:only-of-type {\n",
       "        vertical-align: middle;\n",
       "    }\n",
       "\n",
       "    .dataframe tbody tr th {\n",
       "        vertical-align: top;\n",
       "    }\n",
       "\n",
       "    .dataframe thead th {\n",
       "        text-align: right;\n",
       "    }\n",
       "</style>\n",
       "<table border=\"1\" class=\"dataframe\">\n",
       "  <thead>\n",
       "    <tr style=\"text-align: right;\">\n",
       "      <th>Sex</th>\n",
       "      <th>F</th>\n",
       "      <th>M</th>\n",
       "    </tr>\n",
       "    <tr>\n",
       "      <th>Name</th>\n",
       "      <th></th>\n",
       "      <th></th>\n",
       "    </tr>\n",
       "  </thead>\n",
       "  <tbody>\n",
       "    <tr>\n",
       "      <td>Aaban</td>\n",
       "      <td>NaN</td>\n",
       "      <td>5.0</td>\n",
       "    </tr>\n",
       "    <tr>\n",
       "      <td>Aabid</td>\n",
       "      <td>NaN</td>\n",
       "      <td>5.0</td>\n",
       "    </tr>\n",
       "    <tr>\n",
       "      <td>Aadam</td>\n",
       "      <td>NaN</td>\n",
       "      <td>19.0</td>\n",
       "    </tr>\n",
       "    <tr>\n",
       "      <td>Aadan</td>\n",
       "      <td>NaN</td>\n",
       "      <td>22.0</td>\n",
       "    </tr>\n",
       "    <tr>\n",
       "      <td>Aadarsh</td>\n",
       "      <td>NaN</td>\n",
       "      <td>14.0</td>\n",
       "    </tr>\n",
       "  </tbody>\n",
       "</table>\n",
       "</div>"
      ],
      "text/plain": [
       "Sex       F     M\n",
       "Name             \n",
       "Aaban   NaN   5.0\n",
       "Aabid   NaN   5.0\n",
       "Aadam   NaN  19.0\n",
       "Aadan   NaN  22.0\n",
       "Aadarsh NaN  14.0"
      ]
     },
     "execution_count": 286,
     "metadata": {},
     "output_type": "execute_result"
    }
   ],
   "source": [
    "ascii_lowercase = 'abcdefghijklmnopqrstuvwxyz'\n",
    "\n",
    "b= baby.groupby(['Name','Sex'])['Count'].sum().unstack()\n",
    "b.head()"
   ]
  },
  {
   "cell_type": "code",
   "execution_count": 287,
   "metadata": {
    "deletable": false,
    "nbgrader": {
     "cell_type": "code",
     "checksum": "7483eaab99debf46df2b1c647d4943c5",
     "grade": false,
     "grade_id": "blv4a",
     "locked": false,
     "schema_version": 3,
     "solution": true
    }
   },
   "outputs": [
    {
     "ename": "TypeError",
     "evalue": "no numeric data to plot",
     "output_type": "error",
     "traceback": [
      "\u001b[0;31m---------------------------------------------------------------------------\u001b[0m",
      "\u001b[0;31mTypeError\u001b[0m                                 Traceback (most recent call last)",
      "\u001b[0;32m<ipython-input-287-8f68bb2f8702>\u001b[0m in \u001b[0;36m<module>\u001b[0;34m\u001b[0m\n\u001b[1;32m      3\u001b[0m \u001b[0;34m\u001b[0m\u001b[0m\n\u001b[1;32m      4\u001b[0m \u001b[0;34m\u001b[0m\u001b[0m\n\u001b[0;32m----> 5\u001b[0;31m \u001b[0mletters\u001b[0m\u001b[0;34m.\u001b[0m\u001b[0mplot\u001b[0m\u001b[0;34m(\u001b[0m\u001b[0mkind\u001b[0m\u001b[0;34m=\u001b[0m\u001b[0;34m'bar'\u001b[0m\u001b[0;34m)\u001b[0m\u001b[0;34m;\u001b[0m\u001b[0;34m\u001b[0m\u001b[0;34m\u001b[0m\u001b[0m\n\u001b[0m\u001b[1;32m      6\u001b[0m \u001b[0mletters\u001b[0m\u001b[0;34m.\u001b[0m\u001b[0msum\u001b[0m\u001b[0;34m(\u001b[0m\u001b[0;34m)\u001b[0m  \u001b[0;31m# moet optellen tot 1 in beide kolommen\u001b[0m\u001b[0;34m\u001b[0m\u001b[0;34m\u001b[0m\u001b[0m\n",
      "\u001b[0;32m~/opt/anaconda3/lib/python3.7/site-packages/pandas/plotting/_core.py\u001b[0m in \u001b[0;36m__call__\u001b[0;34m(self, *args, **kwargs)\u001b[0m\n\u001b[1;32m    792\u001b[0m                     \u001b[0mdata\u001b[0m\u001b[0;34m.\u001b[0m\u001b[0mcolumns\u001b[0m \u001b[0;34m=\u001b[0m \u001b[0mlabel_name\u001b[0m\u001b[0;34m\u001b[0m\u001b[0;34m\u001b[0m\u001b[0m\n\u001b[1;32m    793\u001b[0m \u001b[0;34m\u001b[0m\u001b[0m\n\u001b[0;32m--> 794\u001b[0;31m         \u001b[0;32mreturn\u001b[0m \u001b[0mplot_backend\u001b[0m\u001b[0;34m.\u001b[0m\u001b[0mplot\u001b[0m\u001b[0;34m(\u001b[0m\u001b[0mdata\u001b[0m\u001b[0;34m,\u001b[0m \u001b[0mkind\u001b[0m\u001b[0;34m=\u001b[0m\u001b[0mkind\u001b[0m\u001b[0;34m,\u001b[0m \u001b[0;34m**\u001b[0m\u001b[0mkwargs\u001b[0m\u001b[0;34m)\u001b[0m\u001b[0;34m\u001b[0m\u001b[0;34m\u001b[0m\u001b[0m\n\u001b[0m\u001b[1;32m    795\u001b[0m \u001b[0;34m\u001b[0m\u001b[0m\n\u001b[1;32m    796\u001b[0m     \u001b[0;32mdef\u001b[0m \u001b[0mline\u001b[0m\u001b[0;34m(\u001b[0m\u001b[0mself\u001b[0m\u001b[0;34m,\u001b[0m \u001b[0mx\u001b[0m\u001b[0;34m=\u001b[0m\u001b[0;32mNone\u001b[0m\u001b[0;34m,\u001b[0m \u001b[0my\u001b[0m\u001b[0;34m=\u001b[0m\u001b[0;32mNone\u001b[0m\u001b[0;34m,\u001b[0m \u001b[0;34m**\u001b[0m\u001b[0mkwargs\u001b[0m\u001b[0;34m)\u001b[0m\u001b[0;34m:\u001b[0m\u001b[0;34m\u001b[0m\u001b[0;34m\u001b[0m\u001b[0m\n",
      "\u001b[0;32m~/opt/anaconda3/lib/python3.7/site-packages/pandas/plotting/_matplotlib/__init__.py\u001b[0m in \u001b[0;36mplot\u001b[0;34m(data, kind, **kwargs)\u001b[0m\n\u001b[1;32m     60\u001b[0m             \u001b[0mkwargs\u001b[0m\u001b[0;34m[\u001b[0m\u001b[0;34m\"ax\"\u001b[0m\u001b[0;34m]\u001b[0m \u001b[0;34m=\u001b[0m \u001b[0mgetattr\u001b[0m\u001b[0;34m(\u001b[0m\u001b[0max\u001b[0m\u001b[0;34m,\u001b[0m \u001b[0;34m\"left_ax\"\u001b[0m\u001b[0;34m,\u001b[0m \u001b[0max\u001b[0m\u001b[0;34m)\u001b[0m\u001b[0;34m\u001b[0m\u001b[0;34m\u001b[0m\u001b[0m\n\u001b[1;32m     61\u001b[0m     \u001b[0mplot_obj\u001b[0m \u001b[0;34m=\u001b[0m \u001b[0mPLOT_CLASSES\u001b[0m\u001b[0;34m[\u001b[0m\u001b[0mkind\u001b[0m\u001b[0;34m]\u001b[0m\u001b[0;34m(\u001b[0m\u001b[0mdata\u001b[0m\u001b[0;34m,\u001b[0m \u001b[0;34m**\u001b[0m\u001b[0mkwargs\u001b[0m\u001b[0;34m)\u001b[0m\u001b[0;34m\u001b[0m\u001b[0;34m\u001b[0m\u001b[0m\n\u001b[0;32m---> 62\u001b[0;31m     \u001b[0mplot_obj\u001b[0m\u001b[0;34m.\u001b[0m\u001b[0mgenerate\u001b[0m\u001b[0;34m(\u001b[0m\u001b[0;34m)\u001b[0m\u001b[0;34m\u001b[0m\u001b[0;34m\u001b[0m\u001b[0m\n\u001b[0m\u001b[1;32m     63\u001b[0m     \u001b[0mplot_obj\u001b[0m\u001b[0;34m.\u001b[0m\u001b[0mdraw\u001b[0m\u001b[0;34m(\u001b[0m\u001b[0;34m)\u001b[0m\u001b[0;34m\u001b[0m\u001b[0;34m\u001b[0m\u001b[0m\n\u001b[1;32m     64\u001b[0m     \u001b[0;32mreturn\u001b[0m \u001b[0mplot_obj\u001b[0m\u001b[0;34m.\u001b[0m\u001b[0mresult\u001b[0m\u001b[0;34m\u001b[0m\u001b[0;34m\u001b[0m\u001b[0m\n",
      "\u001b[0;32m~/opt/anaconda3/lib/python3.7/site-packages/pandas/plotting/_matplotlib/core.py\u001b[0m in \u001b[0;36mgenerate\u001b[0;34m(self)\u001b[0m\n\u001b[1;32m    277\u001b[0m     \u001b[0;32mdef\u001b[0m \u001b[0mgenerate\u001b[0m\u001b[0;34m(\u001b[0m\u001b[0mself\u001b[0m\u001b[0;34m)\u001b[0m\u001b[0;34m:\u001b[0m\u001b[0;34m\u001b[0m\u001b[0;34m\u001b[0m\u001b[0m\n\u001b[1;32m    278\u001b[0m         \u001b[0mself\u001b[0m\u001b[0;34m.\u001b[0m\u001b[0m_args_adjust\u001b[0m\u001b[0;34m(\u001b[0m\u001b[0;34m)\u001b[0m\u001b[0;34m\u001b[0m\u001b[0;34m\u001b[0m\u001b[0m\n\u001b[0;32m--> 279\u001b[0;31m         \u001b[0mself\u001b[0m\u001b[0;34m.\u001b[0m\u001b[0m_compute_plot_data\u001b[0m\u001b[0;34m(\u001b[0m\u001b[0;34m)\u001b[0m\u001b[0;34m\u001b[0m\u001b[0;34m\u001b[0m\u001b[0m\n\u001b[0m\u001b[1;32m    280\u001b[0m         \u001b[0mself\u001b[0m\u001b[0;34m.\u001b[0m\u001b[0m_setup_subplots\u001b[0m\u001b[0;34m(\u001b[0m\u001b[0;34m)\u001b[0m\u001b[0;34m\u001b[0m\u001b[0;34m\u001b[0m\u001b[0m\n\u001b[1;32m    281\u001b[0m         \u001b[0mself\u001b[0m\u001b[0;34m.\u001b[0m\u001b[0m_make_plot\u001b[0m\u001b[0;34m(\u001b[0m\u001b[0;34m)\u001b[0m\u001b[0;34m\u001b[0m\u001b[0;34m\u001b[0m\u001b[0m\n",
      "\u001b[0;32m~/opt/anaconda3/lib/python3.7/site-packages/pandas/plotting/_matplotlib/core.py\u001b[0m in \u001b[0;36m_compute_plot_data\u001b[0;34m(self)\u001b[0m\n\u001b[1;32m    412\u001b[0m         \u001b[0;31m# no non-numeric frames or series allowed\u001b[0m\u001b[0;34m\u001b[0m\u001b[0;34m\u001b[0m\u001b[0;34m\u001b[0m\u001b[0m\n\u001b[1;32m    413\u001b[0m         \u001b[0;32mif\u001b[0m \u001b[0mis_empty\u001b[0m\u001b[0;34m:\u001b[0m\u001b[0;34m\u001b[0m\u001b[0;34m\u001b[0m\u001b[0m\n\u001b[0;32m--> 414\u001b[0;31m             \u001b[0;32mraise\u001b[0m \u001b[0mTypeError\u001b[0m\u001b[0;34m(\u001b[0m\u001b[0;34m\"no numeric data to plot\"\u001b[0m\u001b[0;34m)\u001b[0m\u001b[0;34m\u001b[0m\u001b[0;34m\u001b[0m\u001b[0m\n\u001b[0m\u001b[1;32m    415\u001b[0m \u001b[0;34m\u001b[0m\u001b[0m\n\u001b[1;32m    416\u001b[0m         \u001b[0;31m# GH25587: cast ExtensionArray of pandas (IntegerArray, etc.) to\u001b[0m\u001b[0;34m\u001b[0m\u001b[0;34m\u001b[0m\u001b[0;34m\u001b[0m\u001b[0m\n",
      "\u001b[0;31mTypeError\u001b[0m: no numeric data to plot"
     ]
    }
   ],
   "source": [
    "\n",
    "letters=pd.DataFrame() # vervang door jouw antwoord\n",
    "\n",
    "\n",
    "\n",
    "letters.plot(kind='bar');\n",
    "letters.sum()  # moet optellen tot 1 in beide kolommen"
   ]
  },
  {
   "cell_type": "code",
   "execution_count": 288,
   "metadata": {
    "deletable": false,
    "editable": false,
    "nbgrader": {
     "cell_type": "code",
     "checksum": "db64350c608ba1a2260dcd80586b8823",
     "grade": true,
     "grade_id": "blv4t",
     "locked": true,
     "points": 1,
     "schema_version": 3,
     "solution": false
    }
   },
   "outputs": [
    {
     "ename": "AssertionError",
     "evalue": "Items in the second set but not the first:\n'M'\n'F'",
     "output_type": "error",
     "traceback": [
      "\u001b[0;31m---------------------------------------------------------------------------\u001b[0m",
      "\u001b[0;31mAssertionError\u001b[0m                            Traceback (most recent call last)",
      "\u001b[0;32m<ipython-input-288-539d005f6906>\u001b[0m in \u001b[0;36m<module>\u001b[0;34m\u001b[0m\n\u001b[1;32m      1\u001b[0m \u001b[0massert_equal\u001b[0m\u001b[0;34m(\u001b[0m\u001b[0mtype\u001b[0m\u001b[0;34m(\u001b[0m\u001b[0mletters\u001b[0m\u001b[0;34m)\u001b[0m\u001b[0;34m,\u001b[0m\u001b[0mpd\u001b[0m\u001b[0;34m.\u001b[0m\u001b[0mDataFrame\u001b[0m\u001b[0;34m)\u001b[0m\u001b[0;34m\u001b[0m\u001b[0;34m\u001b[0m\u001b[0m\n\u001b[0;32m----> 2\u001b[0;31m \u001b[0massert_equal\u001b[0m\u001b[0;34m(\u001b[0m\u001b[0mset\u001b[0m\u001b[0;34m(\u001b[0m\u001b[0mletters\u001b[0m\u001b[0;34m.\u001b[0m\u001b[0mcolumns\u001b[0m\u001b[0;34m)\u001b[0m\u001b[0;34m,\u001b[0m \u001b[0;34m{\u001b[0m\u001b[0;34m'F'\u001b[0m\u001b[0;34m,\u001b[0m\u001b[0;34m'M'\u001b[0m\u001b[0;34m}\u001b[0m\u001b[0;34m)\u001b[0m\u001b[0;34m\u001b[0m\u001b[0;34m\u001b[0m\u001b[0m\n\u001b[0m\u001b[1;32m      3\u001b[0m \u001b[0massert_equal\u001b[0m\u001b[0;34m(\u001b[0m\u001b[0mletters\u001b[0m\u001b[0;34m.\u001b[0m\u001b[0mshape\u001b[0m\u001b[0;34m,\u001b[0m\u001b[0;34m(\u001b[0m\u001b[0;36m26\u001b[0m\u001b[0;34m,\u001b[0m\u001b[0;36m2\u001b[0m\u001b[0;34m)\u001b[0m\u001b[0;34m)\u001b[0m\u001b[0;34m\u001b[0m\u001b[0;34m\u001b[0m\u001b[0m\n",
      "\u001b[0;32m~/opt/anaconda3/lib/python3.7/unittest/case.py\u001b[0m in \u001b[0;36massertEqual\u001b[0;34m(self, first, second, msg)\u001b[0m\n\u001b[1;32m    850\u001b[0m         \"\"\"\n\u001b[1;32m    851\u001b[0m         \u001b[0massertion_func\u001b[0m \u001b[0;34m=\u001b[0m \u001b[0mself\u001b[0m\u001b[0;34m.\u001b[0m\u001b[0m_getAssertEqualityFunc\u001b[0m\u001b[0;34m(\u001b[0m\u001b[0mfirst\u001b[0m\u001b[0;34m,\u001b[0m \u001b[0msecond\u001b[0m\u001b[0;34m)\u001b[0m\u001b[0;34m\u001b[0m\u001b[0;34m\u001b[0m\u001b[0m\n\u001b[0;32m--> 852\u001b[0;31m         \u001b[0massertion_func\u001b[0m\u001b[0;34m(\u001b[0m\u001b[0mfirst\u001b[0m\u001b[0;34m,\u001b[0m \u001b[0msecond\u001b[0m\u001b[0;34m,\u001b[0m \u001b[0mmsg\u001b[0m\u001b[0;34m=\u001b[0m\u001b[0mmsg\u001b[0m\u001b[0;34m)\u001b[0m\u001b[0;34m\u001b[0m\u001b[0;34m\u001b[0m\u001b[0m\n\u001b[0m\u001b[1;32m    853\u001b[0m \u001b[0;34m\u001b[0m\u001b[0m\n\u001b[1;32m    854\u001b[0m     \u001b[0;32mdef\u001b[0m \u001b[0massertNotEqual\u001b[0m\u001b[0;34m(\u001b[0m\u001b[0mself\u001b[0m\u001b[0;34m,\u001b[0m \u001b[0mfirst\u001b[0m\u001b[0;34m,\u001b[0m \u001b[0msecond\u001b[0m\u001b[0;34m,\u001b[0m \u001b[0mmsg\u001b[0m\u001b[0;34m=\u001b[0m\u001b[0;32mNone\u001b[0m\u001b[0;34m)\u001b[0m\u001b[0;34m:\u001b[0m\u001b[0;34m\u001b[0m\u001b[0;34m\u001b[0m\u001b[0m\n",
      "\u001b[0;32m~/opt/anaconda3/lib/python3.7/unittest/case.py\u001b[0m in \u001b[0;36massertSetEqual\u001b[0;34m(self, set1, set2, msg)\u001b[0m\n\u001b[1;32m   1110\u001b[0m \u001b[0;34m\u001b[0m\u001b[0m\n\u001b[1;32m   1111\u001b[0m         \u001b[0mstandardMsg\u001b[0m \u001b[0;34m=\u001b[0m \u001b[0;34m'\\n'\u001b[0m\u001b[0;34m.\u001b[0m\u001b[0mjoin\u001b[0m\u001b[0;34m(\u001b[0m\u001b[0mlines\u001b[0m\u001b[0;34m)\u001b[0m\u001b[0;34m\u001b[0m\u001b[0;34m\u001b[0m\u001b[0m\n\u001b[0;32m-> 1112\u001b[0;31m         \u001b[0mself\u001b[0m\u001b[0;34m.\u001b[0m\u001b[0mfail\u001b[0m\u001b[0;34m(\u001b[0m\u001b[0mself\u001b[0m\u001b[0;34m.\u001b[0m\u001b[0m_formatMessage\u001b[0m\u001b[0;34m(\u001b[0m\u001b[0mmsg\u001b[0m\u001b[0;34m,\u001b[0m \u001b[0mstandardMsg\u001b[0m\u001b[0;34m)\u001b[0m\u001b[0;34m)\u001b[0m\u001b[0;34m\u001b[0m\u001b[0;34m\u001b[0m\u001b[0m\n\u001b[0m\u001b[1;32m   1113\u001b[0m \u001b[0;34m\u001b[0m\u001b[0m\n\u001b[1;32m   1114\u001b[0m     \u001b[0;32mdef\u001b[0m \u001b[0massertIn\u001b[0m\u001b[0;34m(\u001b[0m\u001b[0mself\u001b[0m\u001b[0;34m,\u001b[0m \u001b[0mmember\u001b[0m\u001b[0;34m,\u001b[0m \u001b[0mcontainer\u001b[0m\u001b[0;34m,\u001b[0m \u001b[0mmsg\u001b[0m\u001b[0;34m=\u001b[0m\u001b[0;32mNone\u001b[0m\u001b[0;34m)\u001b[0m\u001b[0;34m:\u001b[0m\u001b[0;34m\u001b[0m\u001b[0;34m\u001b[0m\u001b[0m\n",
      "\u001b[0;32m~/opt/anaconda3/lib/python3.7/unittest/case.py\u001b[0m in \u001b[0;36mfail\u001b[0;34m(self, msg)\u001b[0m\n\u001b[1;32m    691\u001b[0m     \u001b[0;32mdef\u001b[0m \u001b[0mfail\u001b[0m\u001b[0;34m(\u001b[0m\u001b[0mself\u001b[0m\u001b[0;34m,\u001b[0m \u001b[0mmsg\u001b[0m\u001b[0;34m=\u001b[0m\u001b[0;32mNone\u001b[0m\u001b[0;34m)\u001b[0m\u001b[0;34m:\u001b[0m\u001b[0;34m\u001b[0m\u001b[0;34m\u001b[0m\u001b[0m\n\u001b[1;32m    692\u001b[0m         \u001b[0;34m\"\"\"Fail immediately, with the given message.\"\"\"\u001b[0m\u001b[0;34m\u001b[0m\u001b[0;34m\u001b[0m\u001b[0m\n\u001b[0;32m--> 693\u001b[0;31m         \u001b[0;32mraise\u001b[0m \u001b[0mself\u001b[0m\u001b[0;34m.\u001b[0m\u001b[0mfailureException\u001b[0m\u001b[0;34m(\u001b[0m\u001b[0mmsg\u001b[0m\u001b[0;34m)\u001b[0m\u001b[0;34m\u001b[0m\u001b[0;34m\u001b[0m\u001b[0m\n\u001b[0m\u001b[1;32m    694\u001b[0m \u001b[0;34m\u001b[0m\u001b[0m\n\u001b[1;32m    695\u001b[0m     \u001b[0;32mdef\u001b[0m \u001b[0massertFalse\u001b[0m\u001b[0;34m(\u001b[0m\u001b[0mself\u001b[0m\u001b[0;34m,\u001b[0m \u001b[0mexpr\u001b[0m\u001b[0;34m,\u001b[0m \u001b[0mmsg\u001b[0m\u001b[0;34m=\u001b[0m\u001b[0;32mNone\u001b[0m\u001b[0;34m)\u001b[0m\u001b[0;34m:\u001b[0m\u001b[0;34m\u001b[0m\u001b[0;34m\u001b[0m\u001b[0m\n",
      "\u001b[0;31mAssertionError\u001b[0m: Items in the second set but not the first:\n'M'\n'F'"
     ]
    }
   ],
   "source": [
    "assert_equal(type(letters),pd.DataFrame)\n",
    "assert_equal(set(letters.columns), {'F','M'})\n",
    "assert_equal(letters.shape,(26,2))\n"
   ]
  },
  {
   "cell_type": "markdown",
   "metadata": {
    "deletable": false,
    "editable": false,
    "nbgrader": {
     "cell_type": "markdown",
     "checksum": "81db5eb1812ffc65661dbf4665f2f0b8",
     "grade": false,
     "grade_id": "v4",
     "locked": true,
     "schema_version": 3,
     "solution": false
    }
   },
   "source": [
    "# Titanic (2pt)\n",
    "\n",
    "1. In de `titanic` dataset zit een boolse kolom `adult_male`. Vogel uit hoe die gedefinieerd is in termen van de **andere kolommen** in de `titanic` dataset. Jouw antwoord is een Boolse series `v1` zodat de test `(v1== titanic.adult_male).sum() == titanic.adult_male.count()` slaagt. (variable `v1`)\n",
    "    * HINT: `v1` heeft dus dezelfde index als `titanic`. Je definieert `v1` dus met een boolse combinatie van tests op `titanic`.\n",
    "2.  Geef het dataframe `v2` dat precies deze mooie heatmap oplevert. Dat dataframe bevat dus het deel van de mensen op de boot die het overleefd hebben    (`survived`) gegeven de 3 variabelen sex,  alone en pclass. (variable `v2`)\n",
    "\n",
    "![](titanic2.png)\n",
    "\n",
    "HINT: beide vragen kunnen met een oneliner beantwoord worden."
   ]
  },
  {
   "cell_type": "code",
   "execution_count": 289,
   "metadata": {
    "deletable": false,
    "editable": false,
    "nbgrader": {
     "cell_type": "code",
     "checksum": "dbcd9bff66710bbcc77d815339f9f3b9",
     "grade": false,
     "grade_id": "v41",
     "locked": true,
     "schema_version": 3,
     "solution": false
    },
    "scrolled": true
   },
   "outputs": [
    {
     "data": {
      "text/html": [
       "<div>\n",
       "<style scoped>\n",
       "    .dataframe tbody tr th:only-of-type {\n",
       "        vertical-align: middle;\n",
       "    }\n",
       "\n",
       "    .dataframe tbody tr th {\n",
       "        vertical-align: top;\n",
       "    }\n",
       "\n",
       "    .dataframe thead th {\n",
       "        text-align: right;\n",
       "    }\n",
       "</style>\n",
       "<table border=\"1\" class=\"dataframe\">\n",
       "  <thead>\n",
       "    <tr style=\"text-align: right;\">\n",
       "      <th></th>\n",
       "      <th>survived</th>\n",
       "      <th>pclass</th>\n",
       "      <th>sex</th>\n",
       "      <th>age</th>\n",
       "      <th>sibsp</th>\n",
       "      <th>parch</th>\n",
       "      <th>fare</th>\n",
       "      <th>embarked</th>\n",
       "      <th>class</th>\n",
       "      <th>who</th>\n",
       "      <th>adult_male</th>\n",
       "      <th>deck</th>\n",
       "      <th>embark_town</th>\n",
       "      <th>alive</th>\n",
       "      <th>alone</th>\n",
       "    </tr>\n",
       "  </thead>\n",
       "  <tbody>\n",
       "    <tr>\n",
       "      <td>0</td>\n",
       "      <td>0</td>\n",
       "      <td>3</td>\n",
       "      <td>male</td>\n",
       "      <td>22.0</td>\n",
       "      <td>1</td>\n",
       "      <td>0</td>\n",
       "      <td>7.2500</td>\n",
       "      <td>S</td>\n",
       "      <td>Third</td>\n",
       "      <td>man</td>\n",
       "      <td>True</td>\n",
       "      <td>NaN</td>\n",
       "      <td>Southampton</td>\n",
       "      <td>no</td>\n",
       "      <td>False</td>\n",
       "    </tr>\n",
       "    <tr>\n",
       "      <td>1</td>\n",
       "      <td>1</td>\n",
       "      <td>1</td>\n",
       "      <td>female</td>\n",
       "      <td>38.0</td>\n",
       "      <td>1</td>\n",
       "      <td>0</td>\n",
       "      <td>71.2833</td>\n",
       "      <td>C</td>\n",
       "      <td>First</td>\n",
       "      <td>woman</td>\n",
       "      <td>False</td>\n",
       "      <td>C</td>\n",
       "      <td>Cherbourg</td>\n",
       "      <td>yes</td>\n",
       "      <td>False</td>\n",
       "    </tr>\n",
       "    <tr>\n",
       "      <td>2</td>\n",
       "      <td>1</td>\n",
       "      <td>3</td>\n",
       "      <td>female</td>\n",
       "      <td>26.0</td>\n",
       "      <td>0</td>\n",
       "      <td>0</td>\n",
       "      <td>7.9250</td>\n",
       "      <td>S</td>\n",
       "      <td>Third</td>\n",
       "      <td>woman</td>\n",
       "      <td>False</td>\n",
       "      <td>NaN</td>\n",
       "      <td>Southampton</td>\n",
       "      <td>yes</td>\n",
       "      <td>True</td>\n",
       "    </tr>\n",
       "    <tr>\n",
       "      <td>3</td>\n",
       "      <td>1</td>\n",
       "      <td>1</td>\n",
       "      <td>female</td>\n",
       "      <td>35.0</td>\n",
       "      <td>1</td>\n",
       "      <td>0</td>\n",
       "      <td>53.1000</td>\n",
       "      <td>S</td>\n",
       "      <td>First</td>\n",
       "      <td>woman</td>\n",
       "      <td>False</td>\n",
       "      <td>C</td>\n",
       "      <td>Southampton</td>\n",
       "      <td>yes</td>\n",
       "      <td>False</td>\n",
       "    </tr>\n",
       "    <tr>\n",
       "      <td>4</td>\n",
       "      <td>0</td>\n",
       "      <td>3</td>\n",
       "      <td>male</td>\n",
       "      <td>35.0</td>\n",
       "      <td>0</td>\n",
       "      <td>0</td>\n",
       "      <td>8.0500</td>\n",
       "      <td>S</td>\n",
       "      <td>Third</td>\n",
       "      <td>man</td>\n",
       "      <td>True</td>\n",
       "      <td>NaN</td>\n",
       "      <td>Southampton</td>\n",
       "      <td>no</td>\n",
       "      <td>True</td>\n",
       "    </tr>\n",
       "  </tbody>\n",
       "</table>\n",
       "</div>"
      ],
      "text/plain": [
       "   survived  pclass     sex   age  sibsp  parch     fare embarked  class  \\\n",
       "0         0       3    male  22.0      1      0   7.2500        S  Third   \n",
       "1         1       1  female  38.0      1      0  71.2833        C  First   \n",
       "2         1       3  female  26.0      0      0   7.9250        S  Third   \n",
       "3         1       1  female  35.0      1      0  53.1000        S  First   \n",
       "4         0       3    male  35.0      0      0   8.0500        S  Third   \n",
       "\n",
       "     who  adult_male deck  embark_town alive  alone  \n",
       "0    man        True  NaN  Southampton    no  False  \n",
       "1  woman       False    C    Cherbourg   yes  False  \n",
       "2  woman       False  NaN  Southampton   yes   True  \n",
       "3  woman       False    C  Southampton   yes  False  \n",
       "4    man        True  NaN  Southampton    no   True  "
      ]
     },
     "execution_count": 289,
     "metadata": {},
     "output_type": "execute_result"
    }
   ],
   "source": [
    "titanic = sns.load_dataset('titanic')\n",
    "titanic.head(5)"
   ]
  },
  {
   "cell_type": "code",
   "execution_count": 290,
   "metadata": {
    "deletable": false,
    "nbgrader": {
     "cell_type": "code",
     "checksum": "2f5adac399e459f4ba0dd1266942fa7c",
     "grade": false,
     "grade_id": "bv4a",
     "locked": false,
     "schema_version": 3,
     "solution": true
    }
   },
   "outputs": [
    {
     "name": "stdout",
     "output_type": "stream",
     "text": [
      "True\n"
     ]
    },
    {
     "data": {
      "image/png": "[encoded data removed]",
      "text/plain": [
       "<Figure size 432x288 with 2 Axes>"
      ]
     },
     "metadata": {
      "needs_background": "light"
     },
     "output_type": "display_data"
    }
   ],
   "source": [
    "v1 = (titanic.sex == 'male') & ~(titanic.age < 16) \n",
    "v2 = titanic.pivot_table(values='survived', index=['sex', 'alone'], columns='pclass')\n",
    "\n",
    "# Test voor vraag 1.\n",
    "print(( v1 == titanic.adult_male).sum() == titanic.adult_male.count())\n",
    "\n",
    "# Plot voor vraag 2.\n",
    "sns.heatmap(v2, annot=True);\n",
    "# Niet zo'n mooie plot, maar ik kan nu niet opzoeken hoe ik dit moet fixen.\n"
   ]
  },
  {
   "cell_type": "code",
   "execution_count": 291,
   "metadata": {
    "deletable": false,
    "editable": false,
    "nbgrader": {
     "cell_type": "code",
     "checksum": "8d02b1b61b6d24d23ea10fa1f7158793",
     "grade": true,
     "grade_id": "bv4t1",
     "locked": true,
     "points": 1,
     "schema_version": 3,
     "solution": false
    }
   },
   "outputs": [],
   "source": [
    "assert isinstance(v1,pd.Series)\n",
    "np.testing.assert_array_equal( v1.index.values, titanic.index.values)\n"
   ]
  },
  {
   "cell_type": "code",
   "execution_count": 292,
   "metadata": {
    "deletable": false,
    "editable": false,
    "nbgrader": {
     "cell_type": "code",
     "checksum": "64062ff43901cdcb27a7e849bd615507",
     "grade": true,
     "grade_id": "bv4t2",
     "locked": true,
     "points": 1,
     "schema_version": 3,
     "solution": false
    }
   },
   "outputs": [],
   "source": [
    "assert isinstance(v2,pd.DataFrame)\n",
    "assert_equal(v2.shape,(4,3)) # v2 heeft 4 rijen en 3 kolommen\n"
   ]
  },
  {
   "cell_type": "markdown",
   "metadata": {
    "deletable": false,
    "editable": false,
    "nbgrader": {
     "cell_type": "markdown",
     "checksum": "14061a11d6e2f61bf2fedf29836f51da",
     "grade": false,
     "grade_id": "ptest",
     "locked": true,
     "schema_version": 3,
     "solution": false
    }
   },
   "source": [
    "## Titanic 2.1 (1pt)\n",
    "\n",
    "De  \"alive\" kolom lijkt overbodig (redundant) in het   titanic dataframe.\n",
    "\n",
    "Beargumenteer dat dit inderdaad zo is. Zowel in woorden als met code waarnaar je in je argumentatie verwijst.\n",
    "\n",
    "Gebruik in je code `pd.testing.assert_series_equal`."
   ]
  },
  {
   "cell_type": "markdown",
   "metadata": {
    "deletable": false,
    "nbgrader": {
     "cell_type": "markdown",
     "checksum": "ebfecf3c9f8c5ebc8959ac9c39763fbe",
     "grade": true,
     "grade_id": "ptesta",
     "locked": false,
     "points": 1,
     "schema_version": 3,
     "solution": true
    }
   },
   "source": [
    "***UITLEG***\n",
    "Het lijkt er op dat de kolom ```alive``` niet per sé iets zegt over of iemand op dit moment in leven is, maar exact dezelfde informatie weergeeft als ```survived```, maar dan in een string. Dit kunnen we eenvoudig testen door de string te hercoderen naar een boolean, en deze te vergelijken. Als deze overal matched, kunnen we zeggen dat de informatie redundant is."
   ]
  },
  {
   "cell_type": "code",
   "execution_count": 293,
   "metadata": {
    "deletable": false,
    "nbgrader": {
     "cell_type": "code",
     "checksum": "ed916c8b06bc430256e32cc991bc7d44",
     "grade": true,
     "grade_id": "ptestb",
     "locked": false,
     "points": 0,
     "schema_version": 3,
     "solution": true
    }
   },
   "outputs": [
    {
     "data": {
      "text/plain": [
       "True"
      ]
     },
     "execution_count": 293,
     "metadata": {},
     "output_type": "execute_result"
    }
   ],
   "source": [
    "# Als de waarde overal matched (som == lengte data) is de waarde overbodig.\n",
    "(titanic.survived == titanic.alive.str.match('yes')).sum() == len(titanic)"
   ]
  },
  {
   "cell_type": "markdown",
   "metadata": {
    "deletable": false,
    "editable": false,
    "nbgrader": {
     "cell_type": "markdown",
     "checksum": "a6f55f1ef2c2b717a67b6b1803950d78",
     "grade": false,
     "grade_id": "bonus",
     "locked": true,
     "schema_version": 3,
     "solution": false
    }
   },
   "source": [
    "# Bonus (1 pnt)\n",
    "\n",
    "We gaan nog eens naar de studenten resultaten kijken.\n",
    "\n",
    "We willen weten hoeveel studenten voor **elke assignment en deeltoets** minstens zo goed hebben gescoord als het gemiddelde voor die assignment of toets. \n",
    "\n",
    "**Let op, jouw functie moet ook werken op een file met andere kolomnamen, of een ander aantal kolommen.**"
   ]
  },
  {
   "cell_type": "code",
   "execution_count": 294,
   "metadata": {
    "deletable": false,
    "editable": false,
    "nbgrader": {
     "cell_type": "code",
     "checksum": "c6e9aea9ad250b23be958e4ee061e48d",
     "grade": false,
     "grade_id": "bonus-data",
     "locked": true,
     "schema_version": 3,
     "solution": false
    },
    "scrolled": false
   },
   "outputs": [
    {
     "data": {
      "text/html": [
       "<div>\n",
       "<style scoped>\n",
       "    .dataframe tbody tr th:only-of-type {\n",
       "        vertical-align: middle;\n",
       "    }\n",
       "\n",
       "    .dataframe tbody tr th {\n",
       "        vertical-align: top;\n",
       "    }\n",
       "\n",
       "    .dataframe thead th {\n",
       "        text-align: right;\n",
       "    }\n",
       "</style>\n",
       "<table border=\"1\" class=\"dataframe\">\n",
       "  <thead>\n",
       "    <tr style=\"text-align: right;\">\n",
       "      <th></th>\n",
       "      <th>AssignmentWeek1</th>\n",
       "      <th>AssignmentWeek2</th>\n",
       "      <th>AssignmentWeek3</th>\n",
       "      <th>AssignmentWeek5</th>\n",
       "      <th>AssignmentWeek6</th>\n",
       "      <th>AssignmentWeek7</th>\n",
       "      <th>Deeltoets1</th>\n",
       "      <th>Deeltoets2</th>\n",
       "    </tr>\n",
       "    <tr>\n",
       "      <th>names</th>\n",
       "      <th></th>\n",
       "      <th></th>\n",
       "      <th></th>\n",
       "      <th></th>\n",
       "      <th></th>\n",
       "      <th></th>\n",
       "      <th></th>\n",
       "      <th></th>\n",
       "    </tr>\n",
       "  </thead>\n",
       "  <tbody>\n",
       "    <tr>\n",
       "      <td>Albert Elliott</td>\n",
       "      <td>7.3</td>\n",
       "      <td>9.6</td>\n",
       "      <td>5.9</td>\n",
       "      <td>7.9</td>\n",
       "      <td>7.1</td>\n",
       "      <td>2.2</td>\n",
       "      <td>8.1</td>\n",
       "      <td>3.5</td>\n",
       "    </tr>\n",
       "    <tr>\n",
       "      <td>Alan Davis</td>\n",
       "      <td>9.4</td>\n",
       "      <td>5.7</td>\n",
       "      <td>7.6</td>\n",
       "      <td>9.2</td>\n",
       "      <td>8.1</td>\n",
       "      <td>1.0</td>\n",
       "      <td>5.5</td>\n",
       "      <td>5.6</td>\n",
       "    </tr>\n",
       "    <tr>\n",
       "      <td>Alan Ballinger</td>\n",
       "      <td>5.4</td>\n",
       "      <td>10.0</td>\n",
       "      <td>8.2</td>\n",
       "      <td>3.5</td>\n",
       "      <td>8.2</td>\n",
       "      <td>7.2</td>\n",
       "      <td>5.9</td>\n",
       "      <td>8.1</td>\n",
       "    </tr>\n",
       "    <tr>\n",
       "      <td>Adriana Mifflin</td>\n",
       "      <td>6.2</td>\n",
       "      <td>10.0</td>\n",
       "      <td>9.7</td>\n",
       "      <td>8.2</td>\n",
       "      <td>6.2</td>\n",
       "      <td>10.0</td>\n",
       "      <td>8.4</td>\n",
       "      <td>8.5</td>\n",
       "    </tr>\n",
       "    <tr>\n",
       "      <td>Aaron Weekley</td>\n",
       "      <td>6.6</td>\n",
       "      <td>4.3</td>\n",
       "      <td>7.7</td>\n",
       "      <td>3.2</td>\n",
       "      <td>8.5</td>\n",
       "      <td>6.8</td>\n",
       "      <td>10.0</td>\n",
       "      <td>7.4</td>\n",
       "    </tr>\n",
       "  </tbody>\n",
       "</table>\n",
       "</div>"
      ],
      "text/plain": [
       "                 AssignmentWeek1  AssignmentWeek2  AssignmentWeek3  \\\n",
       "names                                                                \n",
       "Albert Elliott               7.3              9.6              5.9   \n",
       "Alan Davis                   9.4              5.7              7.6   \n",
       "Alan Ballinger               5.4             10.0              8.2   \n",
       "Adriana Mifflin              6.2             10.0              9.7   \n",
       "Aaron Weekley                6.6              4.3              7.7   \n",
       "\n",
       "                 AssignmentWeek5  AssignmentWeek6  AssignmentWeek7  \\\n",
       "names                                                                \n",
       "Albert Elliott               7.9              7.1              2.2   \n",
       "Alan Davis                   9.2              8.1              1.0   \n",
       "Alan Ballinger               3.5              8.2              7.2   \n",
       "Adriana Mifflin              8.2              6.2             10.0   \n",
       "Aaron Weekley                3.2              8.5              6.8   \n",
       "\n",
       "                 Deeltoets1  Deeltoets2  \n",
       "names                                    \n",
       "Albert Elliott          8.1         3.5  \n",
       "Alan Davis              5.5         5.6  \n",
       "Alan Ballinger          5.9         8.1  \n",
       "Adriana Mifflin         8.4         8.5  \n",
       "Aaron Weekley          10.0         7.4  "
      ]
     },
     "execution_count": 294,
     "metadata": {},
     "output_type": "execute_result"
    }
   ],
   "source": [
    "df = None\n",
    "\n",
    "df = pd.read_csv('student_results.csv', index_col='names').fillna(1)\n",
    "df.sort_index(inplace=True, ascending=False)\n",
    "\n",
    "df.tail()\n"
   ]
  },
  {
   "cell_type": "code",
   "execution_count": 295,
   "metadata": {
    "deletable": false,
    "nbgrader": {
     "cell_type": "code",
     "checksum": "5d9ca7ad54c2f57bc376ab6350e8023d",
     "grade": false,
     "grade_id": "bonus-a",
     "locked": false,
     "schema_version": 3,
     "solution": true
    }
   },
   "outputs": [
    {
     "data": {
      "text/plain": [
       "2"
      ]
     },
     "execution_count": 295,
     "metadata": {},
     "output_type": "execute_result"
    }
   ],
   "source": [
    "def altijd_beter_dan_avg(data):\n",
    "    \"\"\"Returns the number of rows where all row values are higher than collumn averages.\"\"\"\n",
    "    return ((df >= df.mean()).T.sum() == df.columns.size).sum()\n",
    "\n",
    "altijd_beter_dan_avg(df)"
   ]
  },
  {
   "cell_type": "code",
   "execution_count": 296,
   "metadata": {
    "deletable": false,
    "editable": false,
    "nbgrader": {
     "cell_type": "code",
     "checksum": "4c757ae10975ebe1dec6ab9f61f4de73",
     "grade": true,
     "grade_id": "bonus-t",
     "locked": true,
     "points": 1,
     "schema_version": 3,
     "solution": false
    }
   },
   "outputs": [],
   "source": [
    "assert isinstance(altijd_beter_dan_avg(df),np.integer)\n",
    "assert altijd_beter_dan_avg(df) <= df.shape[0]\n",
    "\n",
    "\n"
   ]
  },
  {
   "cell_type": "code",
   "execution_count": null,
   "metadata": {},
   "outputs": [],
   "source": []
  }
 ],
 "metadata": {
  "kernelspec": {
   "display_name": "Python 3",
   "language": "python",
   "name": "python3"
  },
  "language_info": {
   "codemirror_mode": {
    "name": "ipython",
    "version": 3
   },
   "file_extension": ".py",
   "mimetype": "text/x-python",
   "name": "python",
   "nbconvert_exporter": "python",
   "pygments_lexer": "ipython3",
   "version": "3.7.4"
  },
  "toc": {
   "nav_menu": {},
   "number_sections": true,
   "sideBar": true,
   "skip_h1_title": false,
   "title_cell": "Table of Contents",
   "title_sidebar": "Contents",
   "toc_cell": true,
   "toc_position": {},
   "toc_section_display": true,
   "toc_window_display": false
  }
 },
 "nbformat": 4,
 "nbformat_minor": 2
}
